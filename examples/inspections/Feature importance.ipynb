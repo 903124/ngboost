{
 "cells": [
  {
   "cell_type": "markdown",
   "metadata": {},
   "source": [
    "# Load in Boston housing data set and train NGBoost model"
   ]
  },
  {
   "cell_type": "code",
   "execution_count": 1,
   "metadata": {},
   "outputs": [],
   "source": [
    "import sys\n",
    "sys.path.append(\"../..\")"
   ]
  },
  {
   "cell_type": "code",
   "execution_count": 2,
   "metadata": {},
   "outputs": [
    {
     "name": "stdout",
     "output_type": "stream",
     "text": [
      "[iter 0] loss=3.6483 val_loss=0.0000 scale=0.5000 norm=3.3928\n",
      "[iter 100] loss=3.0937 val_loss=0.0000 scale=1.0000 norm=3.8307\n",
      "[iter 200] loss=2.4551 val_loss=0.0000 scale=2.0000 norm=4.0511\n",
      "[iter 300] loss=2.0437 val_loss=0.0000 scale=2.0000 norm=3.2047\n",
      "[iter 400] loss=1.8457 val_loss=0.0000 scale=1.0000 norm=1.4397\n",
      "Test MSE 6.215584751882489\n",
      "Test NLL 2.590569145665296\n"
     ]
    }
   ],
   "source": [
    "from ngboost import NGBRegressor\n",
    "\n",
    "from sklearn.datasets import load_boston\n",
    "from sklearn.model_selection import train_test_split\n",
    "from sklearn.metrics import mean_squared_error\n",
    "\n",
    "import pandas as pd\n",
    "%matplotlib inline\n",
    "import matplotlib.pyplot as plt\n",
    "import seaborn as sns\n",
    "\n",
    "X, Y = load_boston(True)\n",
    "X_train, X_test, Y_train, Y_test = train_test_split(X, Y, test_size=0.2)\n",
    "\n",
    "ngb = NGBRegressor().fit(X_train, Y_train)\n",
    "Y_preds = ngb.predict(X_test)\n",
    "Y_dists = ngb.pred_dist(X_test)\n",
    "\n",
    "# test Mean Squared Error\n",
    "test_MSE = mean_squared_error(Y_preds, Y_test)\n",
    "print('Test MSE', test_MSE)\n",
    "\n",
    "# test Negative Log Likelihood\n",
    "test_NLL = -Y_dists.logpdf(Y_test.flatten()).mean()\n",
    "print('Test NLL', test_NLL)"
   ]
  },
  {
   "cell_type": "markdown",
   "metadata": {},
   "source": [
    "# Feature importance for each parameter"
   ]
  },
  {
   "cell_type": "markdown",
   "metadata": {},
   "source": [
    "## Feature importance for loc trees"
   ]
  },
  {
   "cell_type": "code",
   "execution_count": 3,
   "metadata": {
    "scrolled": true
   },
   "outputs": [
    {
     "data": {
      "text/plain": [
       "array([0.07335516, 0.00416493, 0.02800235, 0.01143102, 0.05700804,\n",
       "       0.21998733, 0.09810716, 0.13090997, 0.02697387, 0.06331768,\n",
       "       0.06698812, 0.05752631, 0.16222807])"
      ]
     },
     "execution_count": 3,
     "metadata": {},
     "output_type": "execute_result"
    }
   ],
   "source": [
    "ngb.feature_importances_[0]"
   ]
  },
  {
   "cell_type": "code",
   "execution_count": 4,
   "metadata": {},
   "outputs": [
    {
     "data": {
      "text/plain": [
       "<matplotlib.axes._subplots.AxesSubplot at 0x2a48dbf7588>"
      ]
     },
     "execution_count": 4,
     "metadata": {},
     "output_type": "execute_result"
    },
    {
     "data": {
      "image/png": "[encoded data removed]",
      "text/plain": [
       "<Figure size 432x288 with 1 Axes>"
      ]
     },
     "metadata": {
      "needs_background": "light"
     },
     "output_type": "display_data"
    }
   ],
   "source": [
    "# Feature importance plot\n",
    "feature_importance = pd.DataFrame({'feature':load_boston()['feature_names'], \n",
    "                                   'importance':ngb.feature_importances_[0]})\\\n",
    "    .sort_values('importance',ascending=False).reset_index().drop(columns='index')\n",
    "fig, ax = plt.subplots()\n",
    "plt.title('Feature Importance Plot')\n",
    "sns.barplot(x='importance',y='feature',ax=ax,data=feature_importance)"
   ]
  },
  {
   "cell_type": "markdown",
   "metadata": {},
   "source": [
    "## Feature importance for scale trees"
   ]
  },
  {
   "cell_type": "code",
   "execution_count": 5,
   "metadata": {},
   "outputs": [
    {
     "data": {
      "text/plain": [
       "array([0.03499668, 0.03179946, 0.0421987 , 0.00305463, 0.06738745,\n",
       "       0.23038586, 0.06233942, 0.09566871, 0.0359057 , 0.09357494,\n",
       "       0.04821882, 0.08096553, 0.17350409])"
      ]
     },
     "execution_count": 5,
     "metadata": {},
     "output_type": "execute_result"
    }
   ],
   "source": [
    "ngb.feature_importances_[1]"
   ]
  },
  {
   "cell_type": "code",
   "execution_count": 6,
   "metadata": {},
   "outputs": [
    {
     "data": {
      "text/plain": [
       "<matplotlib.axes._subplots.AxesSubplot at 0x2a48dfb7088>"
      ]
     },
     "execution_count": 6,
     "metadata": {},
     "output_type": "execute_result"
    },
    {
     "data": {
      "image/png": "[encoded data removed]",
      "text/plain": [
       "<Figure size 432x288 with 1 Axes>"
      ]
     },
     "metadata": {
      "needs_background": "light"
     },
     "output_type": "display_data"
    }
   ],
   "source": [
    "# Feature importance plot\n",
    "feature_importance = pd.DataFrame({'feature':load_boston()['feature_names'], \n",
    "                                   'importance':ngb.feature_importances_[1]})\\\n",
    "    .sort_values('importance',ascending=False).reset_index().drop(columns='index')\n",
    "fig, ax = plt.subplots()\n",
    "plt.title('Feature Importance Plot')\n",
    "sns.barplot(x='importance',y='feature',ax=ax,data=feature_importance)"
   ]
  }
 ],
 "metadata": {
  "kernelspec": {
   "display_name": "Python 3",
   "language": "python",
   "name": "python3"
  },
  "language_info": {
   "codemirror_mode": {
    "name": "ipython",
    "version": 3
   },
   "file_extension": ".py",
   "mimetype": "text/x-python",
   "name": "python",
   "nbconvert_exporter": "python",
   "pygments_lexer": "ipython3",
   "version": "3.7.5"
  }
 },
 "nbformat": 4,
 "nbformat_minor": 2
}
