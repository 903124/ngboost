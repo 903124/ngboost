{
  "nbformat": 4,
  "nbformat_minor": 0,
  "metadata": {
    "kernelspec": {
      "display_name": "Python 3",
      "language": "python",
      "name": "python3"
    },
    "language_info": {
      "codemirror_mode": {
        "name": "ipython",
        "version": 3
      },
      "file_extension": ".py",
      "mimetype": "text/x-python",
      "name": "python",
      "nbconvert_exporter": "python",
      "pygments_lexer": "ipython3",
      "version": "3.7.6"
    },
    "colab": {
      "name": "5-dev.ipynb.txt",
      "provenance": []
    }
  },
  "cells": [
    {
      "cell_type": "markdown",
      "metadata": {
        "id": "oBLOVqhRqKdC"
      },
      "source": [
        "# Developing NGBoost"
      ]
    },
    {
      "cell_type": "code",
      "metadata": {
        "tags": [
          "remove_cell"
        ],
        "id": "qRIBCRFoqKdD"
      },
      "source": [
        "import sys\n",
        "sys.path.append('/Users/c242587/Desktop/projects/git/ngboost')"
      ],
      "execution_count": null,
      "outputs": []
    },
    {
      "cell_type": "markdown",
      "metadata": {
        "id": "LKKEYrhBqKdI"
      },
      "source": [
        "As you work with NGBoost, you may want to experiment with distributions or scores that are not yet supported. Here we will walk through the process of implementing a new distribution or score."
      ]
    },
    {
      "cell_type": "markdown",
      "metadata": {
        "id": "luQt5uitqKdJ"
      },
      "source": [
        "## Adding Distributions"
      ]
    },
    {
      "cell_type": "markdown",
      "metadata": {
        "id": "UTJ3uxNKqKdJ"
      },
      "source": [
        "The first order of business is to write the class for your new distribution. The distribution class must subclass the appropriate distribution type (either `RegressionDistn` or `ClassificationDistn`) and must implement methods for `fit()` and `sample()`. The scores compatible with the distribution should be stored in a class attribute called `score` and the number of parameters in an class attribute n_params. The class must also store the (internal) distributional parameters in a `_params` instance attribute. Additionally, regression distributions must implement a `mean()` method to support point prediction.\n",
        "\n",
        "We'll use the Laplace distribution as an example. The Laplace distribution has PDF $\\frac{1}{2b} e^{-\\frac{|x-\\mu|}{b}}$ with user-facing parameters $\\mu \\in \\mathbb{R}$ and $b > 0$, which we will call `loc` and `scale` to conform to the [`scipy.stats` implementation](https://docs.scipy.org/doc/scipy/reference/generated/scipy.stats.laplace.html). \n",
        "\n",
        "In NGBoost, all parameters must be represented internally in $\\mathbb R$, so we need to reparametrize $(\\mu, b)$ to, for instance, $(\\mu, \\log(b))$. The latter are the parameters we need to work with when we initialize a `Laplace` object and when implement the score."
      ]
    },
    {
      "cell_type": "code",
      "metadata": {
        "id": "lFrwHuyxqKdK"
      },
      "source": [
        "from scipy.stats import laplace as dist\n",
        "import numpy as np\n",
        "from ngboost.distns.distn import RegressionDistn\n",
        "from ngboost.scores import LogScore\n",
        "\n",
        "class LaplaceLogScore(LogScore): # will implement this later\n",
        "    pass\n",
        "\n",
        "class Laplace(RegressionDistn):\n",
        "\n",
        "    n_params = 2\n",
        "    scores = [LaplaceLogScore] # will implement this later\n",
        "\n",
        "    def __init__(self, params):\n",
        "        # save the parameters\n",
        "        self._params = params\n",
        "        \n",
        "        # create other objects that will be useful later\n",
        "        self.loc = params[0]\n",
        "        self.logscale = params[1]\n",
        "        self.scale = np.exp(params[1]) # since params[1] is log(scale)\n",
        "        self.dist = dist(loc=self.loc, scale=self.scale)\n",
        "\n",
        "    def fit(Y):\n",
        "        m, s = dist.fit(Y) # use scipy's implementation\n",
        "        return np.array([m, np.log(s)])\n",
        "\n",
        "    def sample(self, m):\n",
        "        return np.array([self.dist.rvs() for i in range(m)])\n",
        "    \n",
        "    def __getattr__(self, name): # gives us access to Laplace.mean() required for RegressionDist.predict()\n",
        "        if name in dir(self.dist):\n",
        "            return getattr(self.dist, name)\n",
        "        return None\n",
        "    \n",
        "    @property\n",
        "    def params(self):\n",
        "        return {'loc':self.loc, 'scale':self.scale}"
      ],
      "execution_count": null,
      "outputs": []
    },
    {
      "cell_type": "markdown",
      "metadata": {
        "id": "RxCf_cAeqKdO"
      },
      "source": [
        "The `fit()` method is a class method that takes a vector of observations and fits a marginal distribution. Meanwhile, `sample()` should return a $m$ samples from $P(Y|X=x)$, each of which is a vector of `len(Y)`.\n",
        "\n",
        "Here we're taking advantage of the fact that `scipy.stats` already has the Laplace distribution implemented so we can steal its `fit()` method and put a thin wrapper around `rvs()` to get samples. We also use `__getattr__()` on the internal `scipy.stats` object to get access to its `mean()` method.\n",
        "\n",
        "Lastly, we write a convenience method `params()` that, when called, returns the distributional parameters as the user expects to see them, i.e. $(\\mu, b)$, not $(\\mu, \\log b)$.\n",
        "\n",
        "### Implementing a Score for our Distribution\n",
        "\n",
        "Now we turn our attention to implementing a score that we can use with this distribution. We'll use the log score as an example. \n",
        "\n",
        "All implemented scores should subclass the appropriate score and implement three methods: \n",
        "\n",
        "* `score()` : the value of the score at the current parameters, given the data `Y`\n",
        "* `d_score()` : the derivative of the score at the current parameters, given the data `Y`\n",
        "* `metric()` : the value of the Riemannian metric at the current parameters\n",
        "    "
      ]
    },
    {
      "cell_type": "code",
      "metadata": {
        "id": "0H3LLX2uqKdP"
      },
      "source": [
        "class LaplaceLogScore(LogScore): \n",
        "    \n",
        "    def score(self, Y):\n",
        "        return -self.dist.logpdf(Y)\n",
        "\n",
        "    def d_score(self, Y):\n",
        "        D = np.zeros((len(Y), 2)) # first col is dS/d𝜇, second col is dS/d(log(b))\n",
        "        D[:, 0] = np.sign(self.logscale - Y)/self.scale\n",
        "        D[:, 1] = 1 - np.abs(self.logscale - Y)/self.scale\n",
        "        return D"
      ],
      "execution_count": null,
      "outputs": []
    },
    {
      "cell_type": "markdown",
      "metadata": {
        "id": "UeAQSLrVqKdX"
      },
      "source": [
        "Notice that the attributes of an instance of `Laplace` are referenced using the `self.attr` notation even though we haven't said these will be attributes of the `LaplaceLogScore` class. When a user asks NGBoost to use the `Laplace` distribution with the `LogScore`, NGBoost will first find the implmentation of the log score that is compatible with `Laplace`, i.e. `LaplaceLogScore` and dynamically create a new class that has both the attributes of the distribution and the appropriate implementation of the score. For this to work, the distribution class `Laplace` must have a `scores` class attribute that includes the implementation `LaplaceLogScore` and `LaplaceLogScore` must subclass `LogScore`. As long as those conditions are satisfied, NGBoost can take care of the rest."
      ]
    },
    {
      "cell_type": "markdown",
      "metadata": {
        "id": "F5qyoJ66qKdb"
      },
      "source": [
        "The derivatives with respect to [$\\log b$](https://www.wolframalpha.com/input/?i=d%2Fdb+-log%281%2F%282e%5Eb%29+e%5E%28-%7Cx-a%7C%2Fe%5Eb%29%29) and [$\\mu$](https://www.wolframalpha.com/input/?i=d%2Fda+-log%281%2F%282e%5Eb%29+e%5E%28-%7Cx-a%7C%2Fe%5Eb%29%29) are easily derived using, for instance, WolframAlpha."
      ]
    },
    {
      "cell_type": "markdown",
      "metadata": {
        "id": "E_XLy9ZcqKdc"
      },
      "source": [
        "In this example we won't bother implementing `metric()`, which would return the current Fisher Information. The reason is that the NGBoost implmentation of `LogScore` has a default `metric()` method that uses a Monte Carlo method to approximate the Fisher Information using the `gradient()` method and the distribution's `sample()` method (that's why we needed to implement `sample()`). By inhereting from `LogScore()`, not only can NGBoost find our implementation for the Laplace distribution, it can also fall back on the defualt `metric()` method. More on that later."
      ]
    },
    {
      "cell_type": "markdown",
      "metadata": {
        "id": "8vOLPbdSqKdd"
      },
      "source": [
        "Putting it all together:"
      ]
    },
    {
      "cell_type": "code",
      "metadata": {
        "id": "f5BPi4OKqKde"
      },
      "source": [
        "class LaplaceLogScore(LogScore): \n",
        "    \n",
        "    def score(self, Y):\n",
        "        return -self.dist.logpdf(Y)\n",
        "\n",
        "    def d_score(self, Y):\n",
        "        D = np.zeros((len(Y), 2)) # first col is dS/d𝜇, second col is dS/d(log(b))\n",
        "        D[:, 0] = -np.sign(self.logscale - Y)/self.scale\n",
        "        D[:, 1] = 1 - np.abs(self.logscale - Y)/self.scale\n",
        "        return D\n",
        "\n",
        "class Laplace(RegressionDistn):\n",
        "\n",
        "    n_params = 2\n",
        "    scores = [LaplaceLogScore] \n",
        "\n",
        "    def __init__(self, params):\n",
        "        # save the parameters\n",
        "        self._params = params\n",
        "        \n",
        "        # create other objects that will be useful later\n",
        "        self.loc = params[0]\n",
        "        self.logscale = params[1]\n",
        "        self.scale = np.exp(params[1]) # since params[1] is log(scale)\n",
        "        self.dist = dist(loc=self.loc, scale=self.scale)\n",
        "\n",
        "    def fit(Y):\n",
        "        m, s = dist.fit(Y) # use scipy's implementation\n",
        "        return np.array([m, np.log(s)])\n",
        "\n",
        "    def sample(self, m):\n",
        "        return np.array([self.dist.rvs() for i in range(m)])\n",
        "    \n",
        "    def __getattr__(self, name): # gives us access to Laplace.mean() required for RegressionDist.predict()\n",
        "        if name in dir(self.dist):\n",
        "            return getattr(self.dist, name)\n",
        "        return None\n",
        "    \n",
        "    @property\n",
        "    def params(self):\n",
        "        return {'loc':self.loc, 'scale':self.scale}"
      ],
      "execution_count": null,
      "outputs": []
    },
    {
      "cell_type": "markdown",
      "metadata": {
        "id": "7vbqVxRsqKdu"
      },
      "source": [
        "And we can test our method:"
      ]
    },
    {
      "cell_type": "code",
      "metadata": {
        "id": "peXXtfxKqKdu",
        "outputId": "2dd432be-b8c8-4ec1-81d2-3676f66fa970"
      },
      "source": [
        "from ngboost import NGBRegressor\n",
        "from sklearn.datasets import load_boston\n",
        "from sklearn.model_selection import train_test_split\n",
        "from sklearn.metrics import mean_squared_error\n",
        "\n",
        "X, Y = load_boston(True)\n",
        "X_reg_train, X_reg_test, Y_reg_train, Y_reg_test = train_test_split(X, Y, test_size=0.2)\n",
        "\n",
        "ngb = NGBRegressor(Dist=Laplace, Score=LogScore).fit(X_reg_train, Y_reg_train)\n",
        "Y_preds = ngb.predict(X_reg_test)\n",
        "Y_dists = ngb.pred_dist(X_reg_test)\n",
        "\n",
        "# test Mean Squared Error\n",
        "test_MSE = mean_squared_error(Y_preds, Y_reg_test)\n",
        "print('Test MSE', test_MSE)\n",
        "\n",
        "# test Negative Log Likelihood\n",
        "test_NLL = -Y_dists.logpdf(Y_reg_test).mean()\n",
        "print('Test NLL', test_NLL)"
      ],
      "execution_count": null,
      "outputs": [
        {
          "output_type": "stream",
          "text": [
            "[iter 0] loss=3.5592 val_loss=0.0000 scale=0.5000 norm=5.1998\n",
            "[iter 100] loss=3.3162 val_loss=0.0000 scale=0.2500 norm=1.5259\n",
            "[iter 200] loss=3.3106 val_loss=0.0000 scale=0.0312 norm=0.1790\n",
            "[iter 300] loss=3.3104 val_loss=0.0000 scale=0.0000 norm=0.0001\n",
            "[iter 400] loss=3.3104 val_loss=0.0000 scale=0.0000 norm=0.0001\n",
            "Test MSE 61.24969569895786\n",
            "Test NLL 3.2824343523391057\n"
          ],
          "name": "stdout"
        }
      ]
    },
    {
      "cell_type": "markdown",
      "metadata": {
        "id": "dTy3MfCeqKd0"
      },
      "source": [
        "Dig into the source of `ngboost.distns` to find more examples. If you write and test your own distribution, please contribute it to NGBoost by making a pull request!"
      ]
    },
    {
      "cell_type": "markdown",
      "metadata": {
        "id": "YmtQH7yuqKd1"
      },
      "source": [
        "### Censored Scores"
      ]
    },
    {
      "cell_type": "markdown",
      "metadata": {
        "id": "sdRW_u6tqKd3"
      },
      "source": [
        "You can make your distribution suitable for use in surival analysis if you implement a censored version of the score. The signature for the `score()`, `d_score()` and `metric()` methods should be the same, but they should expect `Y` to be indexable into two arrays like `E, T = Y[\"Event\"], Y[\"Time\"]`. Furthermore, any censored scores should be linked to the distribution class definition via a class attribute called `censored_scores` instead of `scores`. \n",
        "\n",
        "Since censored scores are more general than their standard counterparts (fully observed data is a specific case of censored data), if you implement a censored score in NGBoost, it will automatically become available as a useable score for standard regression analysis. No need to implement the regression score seperately or register it in the `scores` class attribute."
      ]
    },
    {
      "cell_type": "markdown",
      "metadata": {
        "id": "ijHbdY7KqKd4"
      },
      "source": [
        "### Metrics"
      ]
    },
    {
      "cell_type": "markdown",
      "metadata": {
        "id": "nyOZ84tXqKd5"
      },
      "source": [
        "As we saw, using the log score, the easiest thing to do as a developer is to lean on the default ngboost method that calculates the log score metric.\n",
        "\n",
        "However, the distribution-agnostic default method is slow because it must sample from the distribution many times to build up an approximation of the metric. If you want to make it faster, then you must derive and implement the distribution-specific Riemannian metric, which for the log score is the Fisher information matrix of that distribution. You have to derive the Fisher with respect to the internal ngboost parameterization (if that is different to the user-facing parametrization, e.g. $\\log(\\sigma)$, not $\\sigma$). Deriving a Fisher is not necessarily easy since you have to compute an expectation analytically, but there are many examples online of deriving Fisher matrices that you can look through.\n",
        "\n",
        "For example, consider the [Student's-t distribution](https://mathworld.wolfram.com/Studentst-Distribution.html). This distribution is parameterised by degrees of freedom $\\nu$, mean $\\mu$, and standard deviation $\\sigma$. \n",
        "\n",
        "The Fisher information of this distribution can be found  [here](https://stats.stackexchange.com/questions/271898/expected-fishers-information-matrix-for-students-t-distribution), and is\n",
        "\n",
        "$$\\begin{align*}\n",
        "\\begin{bmatrix}\n",
        "\\frac{\\nu + 1}{(\\nu + 3) \\sigma^2} & 0 \\\\ 0 & \\frac{\\nu}{2(\\nu + 3) \\sigma^4}\n",
        "\\end{bmatrix}\n",
        "\\end{align*}$$\n",
        "\n",
        "As $\\sigma > 0$, for NGBoost we must replace this with $\\log ( \\sigma )$. This requires us to reparameterise the distribution. To find the Fisher information under this reparameterisation, we can follow the procedure laid out here on [Wikipedia](https://en.wikipedia.org/wiki/Fisher_information#Reparametrization).\n",
        "\n",
        "$\\eta = (\\mu, \\sigma), \\theta = (\\mu, \\log \\sigma)$\n",
        "\n",
        "$I_{\\eta}(\\eta) = J^T I_{\\theta}(\\theta) J$\n",
        "\n",
        "Where $J$ is the $2 \\times 2$ Jacobian matrix defined by\n",
        "\n",
        "$$[J]_{ij} = \\dfrac{\\partial \\theta_i}{\\partial  \\eta_j}$$\n",
        "\n",
        "\n",
        "\n",
        "Which evaluates to \n",
        "\n",
        "$$\\begin{align*}\n",
        "J = J^T &=  \\begin{bmatrix}\n",
        "1 & 0 \\\\ 0 & \\frac{1}{\\sigma}\n",
        "\\end{bmatrix}\\\\\n",
        "J^{-1} &=  \\begin{bmatrix}\n",
        "1 & 0 \\\\ 0 & \\sigma\n",
        "\\end{bmatrix}\\\\\n",
        "\\end{align*}$$\n",
        "\n",
        "We can thus obtain the desired Fisher information by rearranging as such, \n",
        "\n",
        "$$\\begin{align*}\n",
        "I_{\\theta}(\\theta) &= J^{-1} I_{\\eta}(\\eta) J^{-1}\\\\\n",
        "&=  \\begin{bmatrix}\n",
        "1 & 0 \\\\ 0 & \\sigma\n",
        "\\end{bmatrix}\n",
        "\\begin{bmatrix}\n",
        "\\frac{\\nu + 1}{(\\nu + 3) \\sigma^2} & 0 \\\\ 0 & \\frac{\\nu}{2(\\nu + 3) \\sigma^4}\n",
        "\\end{bmatrix}\n",
        "\\begin{bmatrix}\n",
        "1 & 0 \\\\ 0 & \\sigma\n",
        "\\end{bmatrix}\\\\\n",
        "&= \\begin{bmatrix}\n",
        "\\frac{\\nu + 1}{(\\nu + 3) \\sigma^2} & 0 \\\\ 0 & \\frac{\\nu}{2(\\nu + 3) \\sigma^2}\n",
        "\\end{bmatrix}\n",
        "\\end{align*}\n",
        "$$\n",
        "\n",
        "\n",
        "\n",
        "\n",
        "If you don't want to use the log score (say you want CRP score, for example), then ngboost does not (yet?) have a default method for calculating the metric and you *must* derive and implement it yourself. This is harder than deriving a Fisher because there are not many worked examples. The most general derivation process should follow the outline [here](https://wiseodd.github.io/techblog/2018/03/14/natural-gradient/), replacing the KL divergence (which is induced by the log score) with whichever divergence is induced by the scoring rule you want to use (e.g. L2 for CRPS), again taking care to derive with respect to the internal ngboost parameterization, not the user-facing one. For any particular score, there may be a specific closed-form expression that you can use to calculate the metric across distributions (the expression for the Fisher Info serves this purpose for the log score) or there may not be- I actually don't know the answer to this question! But if there were, that could suggest some kind of default implementation for that score's `metric()` method."
      ]
    },
    {
      "cell_type": "markdown",
      "metadata": {
        "id": "rWV7KJZBqKd5"
      },
      "source": [
        "## Adding Scores"
      ]
    },
    {
      "cell_type": "markdown",
      "metadata": {
        "id": "pVkUf1vXqKd6"
      },
      "source": [
        "We've seen how to *implement* an existing score for a new distribution, but making a new score altogether in NGBoost is also easy: just make a new class that subclasses `Score`:"
      ]
    },
    {
      "cell_type": "code",
      "metadata": {
        "id": "ofwjy1wHqKd6"
      },
      "source": [
        "from ngboost.scores import Score\n",
        "\n",
        "class SphericalScore(Score):\n",
        "    pass"
      ],
      "execution_count": null,
      "outputs": []
    },
    {
      "cell_type": "markdown",
      "metadata": {
        "id": "3cZrzssIqKd-"
      },
      "source": [
        "That's it. Distribution-specific implemenations of this score (e.g. `LaplaceSphericalScore`) should subclass `SphericalScore`. The implementations of `LogScore` and `CRPScore` are in `ngboost.scores` for reference."
      ]
    }
  ]
}