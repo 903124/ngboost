{
 "cells": [
  {
   "cell_type": "markdown",
   "metadata": {},
   "source": [
    "# Saving Models"
   ]
  },
  {
   "cell_type": "code",
   "execution_count": 1,
   "metadata": {
    "tags": [
     "remove_cell"
    ]
   },
   "outputs": [],
   "source": [
    "import sys\n",
    "sys.path.append('/Users/c242587/Desktop/projects/git/ngboost')"
   ]
  },
  {
   "cell_type": "code",
   "execution_count": 2,
   "metadata": {
    "tags": [
     "hide_input"
    ]
   },
   "outputs": [],
   "source": [
    "from ngboost import NGBClassifier, NGBRegressor\n",
    "from ngboost.distns import k_categorical, Normal\n",
    "from ngboost.scores import LogScore\n",
    "\n",
    "from sklearn.datasets import load_breast_cancer, load_boston\n",
    "from sklearn.model_selection import train_test_split\n",
    "\n",
    "X, Y = load_boston(True)\n",
    "X_reg_train, X_reg_test, Y_reg_train, Y_reg_test = train_test_split(X, Y, test_size=0.2)\n",
    "\n",
    "X, y = load_breast_cancer(True)\n",
    "y[0:15] = 2 # artificially make this a 3-class problem instead of a 2-class problem\n",
    "X_cls_train, X_cls_test, Y_cls_train, Y_cls_test  = train_test_split(X, y, test_size=0.2)"
   ]
  },
  {
   "cell_type": "markdown",
   "metadata": {},
   "source": [
    "Saving ngboost models is easy with the `pickle` package:"
   ]
  },
  {
   "cell_type": "code",
   "execution_count": 3,
   "metadata": {},
   "outputs": [
    {
     "name": "stdout",
     "output_type": "stream",
     "text": [
      "[iter 0] loss=3.6506 val_loss=0.0000 scale=0.5000 norm=3.3862\n",
      "[iter 100] loss=3.0990 val_loss=0.0000 scale=1.0000 norm=3.8504\n",
      "[iter 200] loss=2.4645 val_loss=0.0000 scale=2.0000 norm=4.0659\n",
      "[iter 300] loss=2.0319 val_loss=0.0000 scale=2.0000 norm=3.1492\n",
      "[iter 400] loss=1.8434 val_loss=0.0000 scale=1.0000 norm=1.4186\n"
     ]
    }
   ],
   "source": [
    "ngb = NGBRegressor().fit(X_reg_train, Y_reg_train)"
   ]
  },
  {
   "cell_type": "code",
   "execution_count": 8,
   "metadata": {},
   "outputs": [],
   "source": [
    "import pickle\n",
    "from pathlib import Path\n",
    "\n",
    "file_path = Path.home()/'Desktop'/'ngbtest.p'\n",
    "\n",
    "with file_path.open(\"wb\") as f:\n",
    "    pickle.dump(ngb, f)"
   ]
  },
  {
   "cell_type": "code",
   "execution_count": 9,
   "metadata": {},
   "outputs": [],
   "source": [
    "with file_path.open(\"rb\") as f:\n",
    "    ngb_unpickled = pickle.load(f)"
   ]
  },
  {
   "cell_type": "code",
   "execution_count": 10,
   "metadata": {},
   "outputs": [
    {
     "data": {
      "text/plain": [
       "{'loc': array([28.68171924, 19.43322228, 11.09197935, 42.08973505, 27.79734337]),\n",
       " 'scale': array([1.45363126, 1.60000305, 1.44484455, 2.36225619, 1.33421189])}"
      ]
     },
     "execution_count": 10,
     "metadata": {},
     "output_type": "execute_result"
    }
   ],
   "source": [
    "Y_preds = ngb_unpickled.predict(X_reg_test)\n",
    "Y_dists = ngb_unpickled.pred_dist(X_reg_test)\n",
    "\n",
    "Y_dists[0:5].params"
   ]
  },
  {
   "cell_type": "code",
   "execution_count": null,
   "metadata": {},
   "outputs": [],
   "source": []
  }
 ],
 "metadata": {
  "kernelspec": {
   "display_name": "Python 3",
   "language": "python",
   "name": "python3"
  },
  "language_info": {
   "codemirror_mode": {
    "name": "ipython",
    "version": 3
   },
   "file_extension": ".py",
   "mimetype": "text/x-python",
   "name": "python",
   "nbconvert_exporter": "python",
   "pygments_lexer": "ipython3",
   "version": "3.7.6"
  }
 },
 "nbformat": 4,
 "nbformat_minor": 4
}
